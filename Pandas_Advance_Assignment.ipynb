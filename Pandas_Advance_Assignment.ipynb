{
  "nbformat": 4,
  "nbformat_minor": 0,
  "metadata": {
    "colab": {
      "provenance": [],
      "gpuType": "T4"
    },
    "kernelspec": {
      "name": "python3",
      "display_name": "Python 3"
    },
    "language_info": {
      "name": "python"
    },
    "accelerator": "GPU"
  },
  "cells": [
    {
      "cell_type": "code",
      "execution_count": null,
      "metadata": {
        "id": "jW1yCEnvc58N"
      },
      "outputs": [],
      "source": []
    },
    {
      "cell_type": "code",
      "source": [],
      "metadata": {
        "id": "RvqJDaUbpD-Z"
      },
      "execution_count": null,
      "outputs": []
    },
    {
      "cell_type": "markdown",
      "source": [
        " Q1. List any five functions of the pandas library with execution\n",
        "\n"
      ],
      "metadata": {
        "id": "08tuK9jvdyPT"
      }
    },
    {
      "cell_type": "code",
      "source": [
        "# 1.read_csv: This function is used to read data from a CSV file and create a DataFrame.\n",
        "# 2.head: This function displays the first few rows of a DataFrame, giving you a quick overview of the data.\n",
        "# 3.describe: This function provides summary statistics of the DataFrame's numeric columns, like mean, min, max, etc.\n",
        "# 4.groupby: This function is used to group data based on one or more columns and perform aggregate operations.\n",
        "# 5.plot: This function allows you to create various types of plots directly from a DataFrame."
      ],
      "metadata": {
        "id": "Gv4Vnp0BdzFu"
      },
      "execution_count": null,
      "outputs": []
    },
    {
      "cell_type": "code",
      "source": [
        "import pandas as pd\n",
        "\n",
        "# Reading a CSV file into a DataFrame\n",
        "df = pd.read_csv(\"services.csv\")\n",
        "\n",
        "print(df.head())\n",
        "\n",
        "# Display the first 5 rows of the DataFrame\n",
        "print(df.head())\n",
        "\n",
        "# Display summary statistics of numeric columns\n",
        "print(df.describe())\n",
        "\n",
        "# Grouping by 'Category' column and calculating mean of 'Value' column\n",
        "grouped = df.groupby('Category')['Survived'].mean()\n",
        "print(grouped)\n",
        "\n",
        "import matplotlib.pyplot as plt\n",
        "\n",
        "# Plotting a bar chart of 'Value' column\n",
        "df.plot(kind='bar', x='Category', y='Value')\n",
        "plt.show()"
      ],
      "metadata": {
        "id": "fw2eISr2fdBs",
        "colab": {
          "base_uri": "https://localhost:8080/",
          "height": 1000
        },
        "outputId": "c19d8693-1186-4f0d-d6c3-e613aa35cc34"
      },
      "execution_count": 7,
      "outputs": [
        {
          "output_type": "stream",
          "name": "stdout",
          "text": [
            "   id  location_id  program_id accepted_payments alternate_name  \\\n",
            "0   1            1         NaN               NaN            NaN   \n",
            "1   2            2         NaN               NaN            NaN   \n",
            "2   3            3         NaN               NaN            NaN   \n",
            "3   4            4         NaN               NaN            NaN   \n",
            "4   5            5         NaN               NaN            NaN   \n",
            "\n",
            "                           application_process  \\\n",
            "0                   Walk in or apply by phone.   \n",
            "1           Apply by phone for an appointment.   \n",
            "2  Phone for information (403-4300 Ext. 4322).   \n",
            "3                              Apply by phone.   \n",
            "4                       Phone for information.   \n",
            "\n",
            "                                            audience  \\\n",
            "0  Older adults age 55 or over, ethnic minorities...   \n",
            "1       Residents of San Mateo County age 55 or over   \n",
            "2  Older adults age 55 or over who can benefit fr...   \n",
            "3  Parents, children, families with problems of c...   \n",
            "4  Low-income working families with children tran...   \n",
            "\n",
            "                                         description  \\\n",
            "0  A walk-in center for older adults that provide...   \n",
            "1  Provides training and job placement to eligibl...   \n",
            "2  Offers supportive counseling services to San M...   \n",
            "3  Provides supervised visitation services and a ...   \n",
            "4  Provides fixed 8% short term loans to eligible...   \n",
            "\n",
            "                                         eligibility email  ...  \\\n",
            "0  Age 55 or over for most programs, age 60 or ov...   NaN  ...   \n",
            "1  Age 55 or over, county resident and willing an...   NaN  ...   \n",
            "2        Resident of San Mateo County age 55 or over   NaN  ...   \n",
            "3                                                NaN   NaN  ...   \n",
            "4  Eligibility: Low-income family with legal cust...   NaN  ...   \n",
            "\n",
            "  interpretation_services                                           keywords  \\\n",
            "0                     NaN  ADULT PROTECTION AND CARE SERVICES, Meal Sites...   \n",
            "1                     NaN  EMPLOYMENT/TRAINING SERVICES, Job Development,...   \n",
            "2                     NaN  Geriatric Counseling, Older Adults, Gay, Lesbi...   \n",
            "3                     NaN  INDIVIDUAL AND FAMILY DEVELOPMENT SERVICES, Gr...   \n",
            "4                     NaN     COMMUNITY SERVICES, Speakers, Automobile Loans   \n",
            "\n",
            "  languages                               name required_documents  \\\n",
            "0       NaN    Fair Oaks Adult Activity Center                NaN   \n",
            "1       NaN   Second Career Employment Program                NaN   \n",
            "2       NaN             Senior Peer Counseling                NaN   \n",
            "3       NaN           Family Visitation Center                NaN   \n",
            "4       NaN  Economic Self-Sufficiency Program                NaN   \n",
            "\n",
            "      service_areas  status wait_time website taxonomy_ids  \n",
            "0             Colma  active  No wait.     NaN          NaN  \n",
            "1  San Mateo County  active   Varies.     NaN          NaN  \n",
            "2  San Mateo County  active   Varies.     NaN          NaN  \n",
            "3  San Mateo County  active  No wait.     NaN          NaN  \n",
            "4  San Mateo County  active       NaN     NaN          NaN  \n",
            "\n",
            "[5 rows x 22 columns]\n",
            "   id  location_id  program_id accepted_payments alternate_name  \\\n",
            "0   1            1         NaN               NaN            NaN   \n",
            "1   2            2         NaN               NaN            NaN   \n",
            "2   3            3         NaN               NaN            NaN   \n",
            "3   4            4         NaN               NaN            NaN   \n",
            "4   5            5         NaN               NaN            NaN   \n",
            "\n",
            "                           application_process  \\\n",
            "0                   Walk in or apply by phone.   \n",
            "1           Apply by phone for an appointment.   \n",
            "2  Phone for information (403-4300 Ext. 4322).   \n",
            "3                              Apply by phone.   \n",
            "4                       Phone for information.   \n",
            "\n",
            "                                            audience  \\\n",
            "0  Older adults age 55 or over, ethnic minorities...   \n",
            "1       Residents of San Mateo County age 55 or over   \n",
            "2  Older adults age 55 or over who can benefit fr...   \n",
            "3  Parents, children, families with problems of c...   \n",
            "4  Low-income working families with children tran...   \n",
            "\n",
            "                                         description  \\\n",
            "0  A walk-in center for older adults that provide...   \n",
            "1  Provides training and job placement to eligibl...   \n",
            "2  Offers supportive counseling services to San M...   \n",
            "3  Provides supervised visitation services and a ...   \n",
            "4  Provides fixed 8% short term loans to eligible...   \n",
            "\n",
            "                                         eligibility email  ...  \\\n",
            "0  Age 55 or over for most programs, age 60 or ov...   NaN  ...   \n",
            "1  Age 55 or over, county resident and willing an...   NaN  ...   \n",
            "2        Resident of San Mateo County age 55 or over   NaN  ...   \n",
            "3                                                NaN   NaN  ...   \n",
            "4  Eligibility: Low-income family with legal cust...   NaN  ...   \n",
            "\n",
            "  interpretation_services                                           keywords  \\\n",
            "0                     NaN  ADULT PROTECTION AND CARE SERVICES, Meal Sites...   \n",
            "1                     NaN  EMPLOYMENT/TRAINING SERVICES, Job Development,...   \n",
            "2                     NaN  Geriatric Counseling, Older Adults, Gay, Lesbi...   \n",
            "3                     NaN  INDIVIDUAL AND FAMILY DEVELOPMENT SERVICES, Gr...   \n",
            "4                     NaN     COMMUNITY SERVICES, Speakers, Automobile Loans   \n",
            "\n",
            "  languages                               name required_documents  \\\n",
            "0       NaN    Fair Oaks Adult Activity Center                NaN   \n",
            "1       NaN   Second Career Employment Program                NaN   \n",
            "2       NaN             Senior Peer Counseling                NaN   \n",
            "3       NaN           Family Visitation Center                NaN   \n",
            "4       NaN  Economic Self-Sufficiency Program                NaN   \n",
            "\n",
            "      service_areas  status wait_time website taxonomy_ids  \n",
            "0             Colma  active  No wait.     NaN          NaN  \n",
            "1  San Mateo County  active   Varies.     NaN          NaN  \n",
            "2  San Mateo County  active   Varies.     NaN          NaN  \n",
            "3  San Mateo County  active  No wait.     NaN          NaN  \n",
            "4  San Mateo County  active       NaN     NaN          NaN  \n",
            "\n",
            "[5 rows x 22 columns]\n",
            "             id  location_id  program_id\n",
            "count  23.00000    23.000000         0.0\n",
            "mean   12.00000    11.956522         NaN\n",
            "std     6.78233     6.711444         NaN\n",
            "min     1.00000     1.000000         NaN\n",
            "25%     6.50000     6.500000         NaN\n",
            "50%    12.00000    12.000000         NaN\n",
            "75%    17.50000    17.500000         NaN\n",
            "max    23.00000    22.000000         NaN\n"
          ]
        },
        {
          "output_type": "error",
          "ename": "KeyError",
          "evalue": "'Category'",
          "traceback": [
            "\u001b[0;31m---------------------------------------------------------------------------\u001b[0m",
            "\u001b[0;31mKeyError\u001b[0m                                  Traceback (most recent call last)",
            "\u001b[0;32m<ipython-input-7-9a52d739fdef>\u001b[0m in \u001b[0;36m<cell line: 15>\u001b[0;34m()\u001b[0m\n\u001b[1;32m     13\u001b[0m \u001b[0;34m\u001b[0m\u001b[0m\n\u001b[1;32m     14\u001b[0m \u001b[0;31m# Grouping by 'Category' column and calculating mean of 'Value' column\u001b[0m\u001b[0;34m\u001b[0m\u001b[0;34m\u001b[0m\u001b[0m\n\u001b[0;32m---> 15\u001b[0;31m \u001b[0mgrouped\u001b[0m \u001b[0;34m=\u001b[0m \u001b[0mdf\u001b[0m\u001b[0;34m.\u001b[0m\u001b[0mgroupby\u001b[0m\u001b[0;34m(\u001b[0m\u001b[0;34m'Category'\u001b[0m\u001b[0;34m)\u001b[0m\u001b[0;34m[\u001b[0m\u001b[0;34m'Survived'\u001b[0m\u001b[0;34m]\u001b[0m\u001b[0;34m.\u001b[0m\u001b[0mmean\u001b[0m\u001b[0;34m(\u001b[0m\u001b[0;34m)\u001b[0m\u001b[0;34m\u001b[0m\u001b[0;34m\u001b[0m\u001b[0m\n\u001b[0m\u001b[1;32m     16\u001b[0m \u001b[0mprint\u001b[0m\u001b[0;34m(\u001b[0m\u001b[0mgrouped\u001b[0m\u001b[0;34m)\u001b[0m\u001b[0;34m\u001b[0m\u001b[0;34m\u001b[0m\u001b[0m\n\u001b[1;32m     17\u001b[0m \u001b[0;34m\u001b[0m\u001b[0m\n",
            "\u001b[0;32m/usr/local/lib/python3.10/dist-packages/pandas/core/frame.py\u001b[0m in \u001b[0;36mgroupby\u001b[0;34m(self, by, axis, level, as_index, sort, group_keys, observed, dropna)\u001b[0m\n\u001b[1;32m   9181\u001b[0m             \u001b[0;32mraise\u001b[0m \u001b[0mTypeError\u001b[0m\u001b[0;34m(\u001b[0m\u001b[0;34m\"You have to supply one of 'by' and 'level'\"\u001b[0m\u001b[0;34m)\u001b[0m\u001b[0;34m\u001b[0m\u001b[0;34m\u001b[0m\u001b[0m\n\u001b[1;32m   9182\u001b[0m \u001b[0;34m\u001b[0m\u001b[0m\n\u001b[0;32m-> 9183\u001b[0;31m         return DataFrameGroupBy(\n\u001b[0m\u001b[1;32m   9184\u001b[0m             \u001b[0mobj\u001b[0m\u001b[0;34m=\u001b[0m\u001b[0mself\u001b[0m\u001b[0;34m,\u001b[0m\u001b[0;34m\u001b[0m\u001b[0;34m\u001b[0m\u001b[0m\n\u001b[1;32m   9185\u001b[0m             \u001b[0mkeys\u001b[0m\u001b[0;34m=\u001b[0m\u001b[0mby\u001b[0m\u001b[0;34m,\u001b[0m\u001b[0;34m\u001b[0m\u001b[0;34m\u001b[0m\u001b[0m\n",
            "\u001b[0;32m/usr/local/lib/python3.10/dist-packages/pandas/core/groupby/groupby.py\u001b[0m in \u001b[0;36m__init__\u001b[0;34m(self, obj, keys, axis, level, grouper, exclusions, selection, as_index, sort, group_keys, observed, dropna)\u001b[0m\n\u001b[1;32m   1327\u001b[0m \u001b[0;34m\u001b[0m\u001b[0m\n\u001b[1;32m   1328\u001b[0m         \u001b[0;32mif\u001b[0m \u001b[0mgrouper\u001b[0m \u001b[0;32mis\u001b[0m \u001b[0;32mNone\u001b[0m\u001b[0;34m:\u001b[0m\u001b[0;34m\u001b[0m\u001b[0;34m\u001b[0m\u001b[0m\n\u001b[0;32m-> 1329\u001b[0;31m             grouper, exclusions, obj = get_grouper(\n\u001b[0m\u001b[1;32m   1330\u001b[0m                 \u001b[0mobj\u001b[0m\u001b[0;34m,\u001b[0m\u001b[0;34m\u001b[0m\u001b[0;34m\u001b[0m\u001b[0m\n\u001b[1;32m   1331\u001b[0m                 \u001b[0mkeys\u001b[0m\u001b[0;34m,\u001b[0m\u001b[0;34m\u001b[0m\u001b[0;34m\u001b[0m\u001b[0m\n",
            "\u001b[0;32m/usr/local/lib/python3.10/dist-packages/pandas/core/groupby/grouper.py\u001b[0m in \u001b[0;36mget_grouper\u001b[0;34m(obj, key, axis, level, sort, observed, validate, dropna)\u001b[0m\n\u001b[1;32m   1041\u001b[0m                 \u001b[0min_axis\u001b[0m\u001b[0;34m,\u001b[0m \u001b[0mlevel\u001b[0m\u001b[0;34m,\u001b[0m \u001b[0mgpr\u001b[0m \u001b[0;34m=\u001b[0m \u001b[0;32mFalse\u001b[0m\u001b[0;34m,\u001b[0m \u001b[0mgpr\u001b[0m\u001b[0;34m,\u001b[0m \u001b[0;32mNone\u001b[0m\u001b[0;34m\u001b[0m\u001b[0;34m\u001b[0m\u001b[0m\n\u001b[1;32m   1042\u001b[0m             \u001b[0;32melse\u001b[0m\u001b[0;34m:\u001b[0m\u001b[0;34m\u001b[0m\u001b[0;34m\u001b[0m\u001b[0m\n\u001b[0;32m-> 1043\u001b[0;31m                 \u001b[0;32mraise\u001b[0m \u001b[0mKeyError\u001b[0m\u001b[0;34m(\u001b[0m\u001b[0mgpr\u001b[0m\u001b[0;34m)\u001b[0m\u001b[0;34m\u001b[0m\u001b[0;34m\u001b[0m\u001b[0m\n\u001b[0m\u001b[1;32m   1044\u001b[0m         \u001b[0;32melif\u001b[0m \u001b[0misinstance\u001b[0m\u001b[0;34m(\u001b[0m\u001b[0mgpr\u001b[0m\u001b[0;34m,\u001b[0m \u001b[0mGrouper\u001b[0m\u001b[0;34m)\u001b[0m \u001b[0;32mand\u001b[0m \u001b[0mgpr\u001b[0m\u001b[0;34m.\u001b[0m\u001b[0mkey\u001b[0m \u001b[0;32mis\u001b[0m \u001b[0;32mnot\u001b[0m \u001b[0;32mNone\u001b[0m\u001b[0;34m:\u001b[0m\u001b[0;34m\u001b[0m\u001b[0;34m\u001b[0m\u001b[0m\n\u001b[1;32m   1045\u001b[0m             \u001b[0;31m# Add key to exclusions\u001b[0m\u001b[0;34m\u001b[0m\u001b[0;34m\u001b[0m\u001b[0m\n",
            "\u001b[0;31mKeyError\u001b[0m: 'Category'"
          ]
        }
      ]
    },
    {
      "cell_type": "code",
      "source": [
        "import pandas as pd\n"
      ],
      "metadata": {
        "id": "u_J9Q57KpGeW"
      },
      "execution_count": 1,
      "outputs": []
    },
    {
      "cell_type": "markdown",
      "source": [],
      "metadata": {
        "id": "rzGJ7sNIfAKQ"
      }
    },
    {
      "cell_type": "code",
      "source": [
        "pip install pandas"
      ],
      "metadata": {
        "colab": {
          "base_uri": "https://localhost:8080/"
        },
        "id": "zjN7rI38pMuv",
        "outputId": "a3f4cbbd-79b1-4180-e632-6ff343e8f476"
      },
      "execution_count": 2,
      "outputs": [
        {
          "output_type": "stream",
          "name": "stdout",
          "text": [
            "Requirement already satisfied: pandas in /usr/local/lib/python3.10/dist-packages (2.2.2)\n",
            "Requirement already satisfied: numpy>=1.22.4 in /usr/local/lib/python3.10/dist-packages (from pandas) (1.26.4)\n",
            "Requirement already satisfied: python-dateutil>=2.8.2 in /usr/local/lib/python3.10/dist-packages (from pandas) (2.8.2)\n",
            "Requirement already satisfied: pytz>=2020.1 in /usr/local/lib/python3.10/dist-packages (from pandas) (2024.2)\n",
            "Requirement already satisfied: tzdata>=2022.7 in /usr/local/lib/python3.10/dist-packages (from pandas) (2024.2)\n",
            "Requirement already satisfied: six>=1.5 in /usr/local/lib/python3.10/dist-packages (from python-dateutil>=2.8.2->pandas) (1.16.0)\n"
          ]
        }
      ]
    },
    {
      "cell_type": "code",
      "source": [],
      "metadata": {
        "id": "L2hq5ZBjpfMU"
      },
      "execution_count": null,
      "outputs": []
    },
    {
      "cell_type": "markdown",
      "source": [
        "Q2. Given a Pandas DataFrame df with columns 'A', 'B', and 'C', write a Python function to re-index the DataFrame with a new index that starts from 1 and increments by 2 for each row."
      ],
      "metadata": {
        "id": "GJjk-EQ_qe4x"
      }
    },
    {
      "cell_type": "code",
      "source": [
        "import pandas as pd\n",
        "mydata ={\n",
        "    'A' :[1,2,3],\n",
        "    'B': [4.0,'a',5],\n",
        "    'C' :[3,5,6]\n",
        "}\n",
        "df = pd.DataFrame(mydata)\n",
        "df.reindex([2,4,6])"
      ],
      "metadata": {
        "colab": {
          "base_uri": "https://localhost:8080/",
          "height": 143
        },
        "id": "EAcyJcg5qjwv",
        "outputId": "04e77471-e679-4e55-9cd3-da14f5265f84"
      },
      "execution_count": 8,
      "outputs": [
        {
          "output_type": "execute_result",
          "data": {
            "text/plain": [
              "     A    B    C\n",
              "2  3.0    5  6.0\n",
              "4  NaN  NaN  NaN\n",
              "6  NaN  NaN  NaN"
            ],
            "text/html": [
              "\n",
              "  <div id=\"df-2c21f589-a13c-416f-91e8-81c12dc661c3\" class=\"colab-df-container\">\n",
              "    <div>\n",
              "<style scoped>\n",
              "    .dataframe tbody tr th:only-of-type {\n",
              "        vertical-align: middle;\n",
              "    }\n",
              "\n",
              "    .dataframe tbody tr th {\n",
              "        vertical-align: top;\n",
              "    }\n",
              "\n",
              "    .dataframe thead th {\n",
              "        text-align: right;\n",
              "    }\n",
              "</style>\n",
              "<table border=\"1\" class=\"dataframe\">\n",
              "  <thead>\n",
              "    <tr style=\"text-align: right;\">\n",
              "      <th></th>\n",
              "      <th>A</th>\n",
              "      <th>B</th>\n",
              "      <th>C</th>\n",
              "    </tr>\n",
              "  </thead>\n",
              "  <tbody>\n",
              "    <tr>\n",
              "      <th>2</th>\n",
              "      <td>3.0</td>\n",
              "      <td>5</td>\n",
              "      <td>6.0</td>\n",
              "    </tr>\n",
              "    <tr>\n",
              "      <th>4</th>\n",
              "      <td>NaN</td>\n",
              "      <td>NaN</td>\n",
              "      <td>NaN</td>\n",
              "    </tr>\n",
              "    <tr>\n",
              "      <th>6</th>\n",
              "      <td>NaN</td>\n",
              "      <td>NaN</td>\n",
              "      <td>NaN</td>\n",
              "    </tr>\n",
              "  </tbody>\n",
              "</table>\n",
              "</div>\n",
              "    <div class=\"colab-df-buttons\">\n",
              "\n",
              "  <div class=\"colab-df-container\">\n",
              "    <button class=\"colab-df-convert\" onclick=\"convertToInteractive('df-2c21f589-a13c-416f-91e8-81c12dc661c3')\"\n",
              "            title=\"Convert this dataframe to an interactive table.\"\n",
              "            style=\"display:none;\">\n",
              "\n",
              "  <svg xmlns=\"http://www.w3.org/2000/svg\" height=\"24px\" viewBox=\"0 -960 960 960\">\n",
              "    <path d=\"M120-120v-720h720v720H120Zm60-500h600v-160H180v160Zm220 220h160v-160H400v160Zm0 220h160v-160H400v160ZM180-400h160v-160H180v160Zm440 0h160v-160H620v160ZM180-180h160v-160H180v160Zm440 0h160v-160H620v160Z\"/>\n",
              "  </svg>\n",
              "    </button>\n",
              "\n",
              "  <style>\n",
              "    .colab-df-container {\n",
              "      display:flex;\n",
              "      gap: 12px;\n",
              "    }\n",
              "\n",
              "    .colab-df-convert {\n",
              "      background-color: #E8F0FE;\n",
              "      border: none;\n",
              "      border-radius: 50%;\n",
              "      cursor: pointer;\n",
              "      display: none;\n",
              "      fill: #1967D2;\n",
              "      height: 32px;\n",
              "      padding: 0 0 0 0;\n",
              "      width: 32px;\n",
              "    }\n",
              "\n",
              "    .colab-df-convert:hover {\n",
              "      background-color: #E2EBFA;\n",
              "      box-shadow: 0px 1px 2px rgba(60, 64, 67, 0.3), 0px 1px 3px 1px rgba(60, 64, 67, 0.15);\n",
              "      fill: #174EA6;\n",
              "    }\n",
              "\n",
              "    .colab-df-buttons div {\n",
              "      margin-bottom: 4px;\n",
              "    }\n",
              "\n",
              "    [theme=dark] .colab-df-convert {\n",
              "      background-color: #3B4455;\n",
              "      fill: #D2E3FC;\n",
              "    }\n",
              "\n",
              "    [theme=dark] .colab-df-convert:hover {\n",
              "      background-color: #434B5C;\n",
              "      box-shadow: 0px 1px 3px 1px rgba(0, 0, 0, 0.15);\n",
              "      filter: drop-shadow(0px 1px 2px rgba(0, 0, 0, 0.3));\n",
              "      fill: #FFFFFF;\n",
              "    }\n",
              "  </style>\n",
              "\n",
              "    <script>\n",
              "      const buttonEl =\n",
              "        document.querySelector('#df-2c21f589-a13c-416f-91e8-81c12dc661c3 button.colab-df-convert');\n",
              "      buttonEl.style.display =\n",
              "        google.colab.kernel.accessAllowed ? 'block' : 'none';\n",
              "\n",
              "      async function convertToInteractive(key) {\n",
              "        const element = document.querySelector('#df-2c21f589-a13c-416f-91e8-81c12dc661c3');\n",
              "        const dataTable =\n",
              "          await google.colab.kernel.invokeFunction('convertToInteractive',\n",
              "                                                    [key], {});\n",
              "        if (!dataTable) return;\n",
              "\n",
              "        const docLinkHtml = 'Like what you see? Visit the ' +\n",
              "          '<a target=\"_blank\" href=https://colab.research.google.com/notebooks/data_table.ipynb>data table notebook</a>'\n",
              "          + ' to learn more about interactive tables.';\n",
              "        element.innerHTML = '';\n",
              "        dataTable['output_type'] = 'display_data';\n",
              "        await google.colab.output.renderOutput(dataTable, element);\n",
              "        const docLink = document.createElement('div');\n",
              "        docLink.innerHTML = docLinkHtml;\n",
              "        element.appendChild(docLink);\n",
              "      }\n",
              "    </script>\n",
              "  </div>\n",
              "\n",
              "\n",
              "<div id=\"df-696e9679-2d88-4a68-bbdd-b19ae593f091\">\n",
              "  <button class=\"colab-df-quickchart\" onclick=\"quickchart('df-696e9679-2d88-4a68-bbdd-b19ae593f091')\"\n",
              "            title=\"Suggest charts\"\n",
              "            style=\"display:none;\">\n",
              "\n",
              "<svg xmlns=\"http://www.w3.org/2000/svg\" height=\"24px\"viewBox=\"0 0 24 24\"\n",
              "     width=\"24px\">\n",
              "    <g>\n",
              "        <path d=\"M19 3H5c-1.1 0-2 .9-2 2v14c0 1.1.9 2 2 2h14c1.1 0 2-.9 2-2V5c0-1.1-.9-2-2-2zM9 17H7v-7h2v7zm4 0h-2V7h2v10zm4 0h-2v-4h2v4z\"/>\n",
              "    </g>\n",
              "</svg>\n",
              "  </button>\n",
              "\n",
              "<style>\n",
              "  .colab-df-quickchart {\n",
              "      --bg-color: #E8F0FE;\n",
              "      --fill-color: #1967D2;\n",
              "      --hover-bg-color: #E2EBFA;\n",
              "      --hover-fill-color: #174EA6;\n",
              "      --disabled-fill-color: #AAA;\n",
              "      --disabled-bg-color: #DDD;\n",
              "  }\n",
              "\n",
              "  [theme=dark] .colab-df-quickchart {\n",
              "      --bg-color: #3B4455;\n",
              "      --fill-color: #D2E3FC;\n",
              "      --hover-bg-color: #434B5C;\n",
              "      --hover-fill-color: #FFFFFF;\n",
              "      --disabled-bg-color: #3B4455;\n",
              "      --disabled-fill-color: #666;\n",
              "  }\n",
              "\n",
              "  .colab-df-quickchart {\n",
              "    background-color: var(--bg-color);\n",
              "    border: none;\n",
              "    border-radius: 50%;\n",
              "    cursor: pointer;\n",
              "    display: none;\n",
              "    fill: var(--fill-color);\n",
              "    height: 32px;\n",
              "    padding: 0;\n",
              "    width: 32px;\n",
              "  }\n",
              "\n",
              "  .colab-df-quickchart:hover {\n",
              "    background-color: var(--hover-bg-color);\n",
              "    box-shadow: 0 1px 2px rgba(60, 64, 67, 0.3), 0 1px 3px 1px rgba(60, 64, 67, 0.15);\n",
              "    fill: var(--button-hover-fill-color);\n",
              "  }\n",
              "\n",
              "  .colab-df-quickchart-complete:disabled,\n",
              "  .colab-df-quickchart-complete:disabled:hover {\n",
              "    background-color: var(--disabled-bg-color);\n",
              "    fill: var(--disabled-fill-color);\n",
              "    box-shadow: none;\n",
              "  }\n",
              "\n",
              "  .colab-df-spinner {\n",
              "    border: 2px solid var(--fill-color);\n",
              "    border-color: transparent;\n",
              "    border-bottom-color: var(--fill-color);\n",
              "    animation:\n",
              "      spin 1s steps(1) infinite;\n",
              "  }\n",
              "\n",
              "  @keyframes spin {\n",
              "    0% {\n",
              "      border-color: transparent;\n",
              "      border-bottom-color: var(--fill-color);\n",
              "      border-left-color: var(--fill-color);\n",
              "    }\n",
              "    20% {\n",
              "      border-color: transparent;\n",
              "      border-left-color: var(--fill-color);\n",
              "      border-top-color: var(--fill-color);\n",
              "    }\n",
              "    30% {\n",
              "      border-color: transparent;\n",
              "      border-left-color: var(--fill-color);\n",
              "      border-top-color: var(--fill-color);\n",
              "      border-right-color: var(--fill-color);\n",
              "    }\n",
              "    40% {\n",
              "      border-color: transparent;\n",
              "      border-right-color: var(--fill-color);\n",
              "      border-top-color: var(--fill-color);\n",
              "    }\n",
              "    60% {\n",
              "      border-color: transparent;\n",
              "      border-right-color: var(--fill-color);\n",
              "    }\n",
              "    80% {\n",
              "      border-color: transparent;\n",
              "      border-right-color: var(--fill-color);\n",
              "      border-bottom-color: var(--fill-color);\n",
              "    }\n",
              "    90% {\n",
              "      border-color: transparent;\n",
              "      border-bottom-color: var(--fill-color);\n",
              "    }\n",
              "  }\n",
              "</style>\n",
              "\n",
              "  <script>\n",
              "    async function quickchart(key) {\n",
              "      const quickchartButtonEl =\n",
              "        document.querySelector('#' + key + ' button');\n",
              "      quickchartButtonEl.disabled = true;  // To prevent multiple clicks.\n",
              "      quickchartButtonEl.classList.add('colab-df-spinner');\n",
              "      try {\n",
              "        const charts = await google.colab.kernel.invokeFunction(\n",
              "            'suggestCharts', [key], {});\n",
              "      } catch (error) {\n",
              "        console.error('Error during call to suggestCharts:', error);\n",
              "      }\n",
              "      quickchartButtonEl.classList.remove('colab-df-spinner');\n",
              "      quickchartButtonEl.classList.add('colab-df-quickchart-complete');\n",
              "    }\n",
              "    (() => {\n",
              "      let quickchartButtonEl =\n",
              "        document.querySelector('#df-696e9679-2d88-4a68-bbdd-b19ae593f091 button');\n",
              "      quickchartButtonEl.style.display =\n",
              "        google.colab.kernel.accessAllowed ? 'block' : 'none';\n",
              "    })();\n",
              "  </script>\n",
              "</div>\n",
              "\n",
              "    </div>\n",
              "  </div>\n"
            ],
            "application/vnd.google.colaboratory.intrinsic+json": {
              "type": "dataframe",
              "repr_error": "0"
            }
          },
          "metadata": {},
          "execution_count": 8
        }
      ]
    },
    {
      "cell_type": "markdown",
      "source": [
        "Q3. You have a Pandas DataFrame df with a column named 'Values'. Write a Python function that iterates over the DataFrame and calculates the sum of the first three values in the 'Values' column. The function should print the sum to the console.\n",
        "\n",
        "For example, if the 'Values' column of df contains the values [10, 20, 30, 40, 50], your function should\n",
        "calculate and print the sum of the first three values, which is 60."
      ],
      "metadata": {
        "id": "45YITCjsqqha"
      }
    },
    {
      "cell_type": "code",
      "source": [
        "import pandas as pd\n",
        "mydata = {\n",
        " 'val' : [10, 20, 30, 40, 50]}\n",
        "df=pd.DataFrame( mydata)\n",
        "# df2 = df['val'].apply()\n",
        "\n",
        "s4 = pd.Series([3,4,5,6,6] , index=[2,4,5,6,1])\n",
        "s1 = pd.Series([10,20,30,40,50], index=[1,4,6,8,10])\n",
        "s1"
      ],
      "metadata": {
        "colab": {
          "base_uri": "https://localhost:8080/",
          "height": 241
        },
        "id": "9yOZe9WAqmsQ",
        "outputId": "471b70ae-ae62-42e8-9637-dc0cbb1ab18d"
      },
      "execution_count": 9,
      "outputs": [
        {
          "output_type": "execute_result",
          "data": {
            "text/plain": [
              "1     10\n",
              "4     20\n",
              "6     30\n",
              "8     40\n",
              "10    50\n",
              "dtype: int64"
            ],
            "text/html": [
              "<div>\n",
              "<style scoped>\n",
              "    .dataframe tbody tr th:only-of-type {\n",
              "        vertical-align: middle;\n",
              "    }\n",
              "\n",
              "    .dataframe tbody tr th {\n",
              "        vertical-align: top;\n",
              "    }\n",
              "\n",
              "    .dataframe thead th {\n",
              "        text-align: right;\n",
              "    }\n",
              "</style>\n",
              "<table border=\"1\" class=\"dataframe\">\n",
              "  <thead>\n",
              "    <tr style=\"text-align: right;\">\n",
              "      <th></th>\n",
              "      <th>0</th>\n",
              "    </tr>\n",
              "  </thead>\n",
              "  <tbody>\n",
              "    <tr>\n",
              "      <th>1</th>\n",
              "      <td>10</td>\n",
              "    </tr>\n",
              "    <tr>\n",
              "      <th>4</th>\n",
              "      <td>20</td>\n",
              "    </tr>\n",
              "    <tr>\n",
              "      <th>6</th>\n",
              "      <td>30</td>\n",
              "    </tr>\n",
              "    <tr>\n",
              "      <th>8</th>\n",
              "      <td>40</td>\n",
              "    </tr>\n",
              "    <tr>\n",
              "      <th>10</th>\n",
              "      <td>50</td>\n",
              "    </tr>\n",
              "  </tbody>\n",
              "</table>\n",
              "</div><br><label><b>dtype:</b> int64</label>"
            ]
          },
          "metadata": {},
          "execution_count": 9
        }
      ]
    },
    {
      "cell_type": "markdown",
      "source": [
        "Q4. Given a Pandas DataFrame df with a column 'Text', write a Python function to create a new column 'Word_Count' that contains the number of words in each row of the 'Text' column."
      ],
      "metadata": {
        "id": "VkK8ABG2qvD5"
      }
    },
    {
      "cell_type": "code",
      "source": [
        "import pandas as pd\n",
        "\n",
        "def add_word_count_column(df):\n",
        "    df['Word_Count'] = df['Text'].apply(lambda x: len(x.split()))\n",
        "    return df\n",
        "\n",
        "# Example usage\n",
        "data = {'Text': [\"Hello there\", \"How's it going?\", \"Just chilling and enjoying\"]}\n",
        "df = pd.DataFrame(data)\n",
        "\n",
        "# Adding the 'Word_Count' column\n",
        "df_with_word_count = add_word_count_column(df)\n",
        "print(df_with_word_count)"
      ],
      "metadata": {
        "id": "uLGmAg70qthW"
      },
      "execution_count": null,
      "outputs": []
    },
    {
      "cell_type": "markdown",
      "source": [
        " Q5. How are DataFrame.size() and DataFrame.shape() different?\n",
        "Ans :-`DataFrame.size` and `DataFrame.shape` are attributes in Pandas DataFrames,\n",
        "1. DataFrame.size: This attribute gives you the total number of elements in the DataFrame. It's calculated as the product of the number of rows and the number of columns. So, if you have a DataFrame with 5 rows and 3 columns, the `DataFrame.size` would be 15.\n",
        "\n",
        "2.DataFrame.shape:This attribute returns a tuple representing the dimensions of the DataFrame. It gives you two values: the number of rows and the number of columns. For the same DataFrame as above, `DataFrame.shape` would be `(5, 3)`.\n",
        "\n",
        "In essence, `DataFrame.size` gives you the total count of elements (cells) in the DataFrame, while `DataFrame.shape` provides the dimensions (rows and columns) of the DataFrame. Keep in mind these differences when working with Pandas DataFrames, bro!"
      ],
      "metadata": {
        "id": "vEc-P8gbq8ST"
      }
    },
    {
      "cell_type": "code",
      "source": [
        "import pandas as pd\n",
        "\n",
        "# Creating a sample DataFrame\n",
        "data = {'Name': ['Alice', 'Bob', 'Charlie'],\n",
        "        'Age': [25, 30, 28],\n",
        "        'City': ['New York', 'Los Angeles', 'Chicago']}\n",
        "\n",
        "df = pd.DataFrame(data)\n",
        "\n",
        "# Using DataFrame.size\n",
        "size = df.size  # This will be 3 (rows) * 3 (columns) = 9\n",
        "print(\"DataFrame.size:\", size)\n",
        "\n",
        "# Using DataFrame.shape\n",
        "shape = df.shape  # This will be a tuple (3, 3) representing 3 rows and 3 columns\n",
        "print(\"DataFrame.shape:\", shape)"
      ],
      "metadata": {
        "colab": {
          "base_uri": "https://localhost:8080/"
        },
        "id": "xJ4kG690rJ2l",
        "outputId": "0789fa7d-2bcb-4479-d653-bf080efdd96f"
      },
      "execution_count": 10,
      "outputs": [
        {
          "output_type": "stream",
          "name": "stdout",
          "text": [
            "DataFrame.size: 9\n",
            "DataFrame.shape: (3, 3)\n"
          ]
        }
      ]
    },
    {
      "cell_type": "markdown",
      "source": [
        "Q6. Which function of pandas do we use to read an excel file?"
      ],
      "metadata": {
        "id": "q9GKLSovrPWY"
      }
    },
    {
      "cell_type": "markdown",
      "source": [],
      "metadata": {
        "id": "wKaAT3zzrN2h"
      }
    },
    {
      "cell_type": "code",
      "source": [
        "import pandas as pd\n",
        "\n",
        "# Replace 'file_path.xlsx' with the actual path to your Excel file\n",
        "df = pd.read_excel('sya.xlsx')\n",
        "\n",
        "# Now 'df' contains the data from the Excel file in a DataFrame\n",
        "print(df)\n"
      ],
      "metadata": {
        "id": "mreL4YTyrTm4"
      },
      "execution_count": null,
      "outputs": []
    },
    {
      "cell_type": "markdown",
      "source": [
        " Q7. You have a Pandas DataFrame df that contains a column named 'Email' that contains email addresses in the format 'username@domain.com'. Write a Python function that creates a new column 'Username' in df that contains only the username part of each email address.\n",
        "\n"
      ],
      "metadata": {
        "id": "cd9tQ3a2rYon"
      }
    },
    {
      "cell_type": "code",
      "source": [
        "def strsplit(email):\n",
        "    user = email.split('@')[0]\n",
        "    return user\n",
        "\n",
        "data = {'Email': ['tom.smith@example.com', 'jerry.brown@example.com', 'rob.jones@example.com']}\n",
        "df = pd.DataFrame(data)\n",
        "\n",
        "df['username'] = df['Email'].apply(strsplit)\n",
        "df"
      ],
      "metadata": {
        "colab": {
          "base_uri": "https://localhost:8080/",
          "height": 143
        },
        "id": "qCzEBMWfrZb8",
        "outputId": "9d0ddb7f-2b62-4dad-e12f-b3c16730801f"
      },
      "execution_count": 11,
      "outputs": [
        {
          "output_type": "execute_result",
          "data": {
            "text/plain": [
              "                     Email     username\n",
              "0    tom.smith@example.com    tom.smith\n",
              "1  jerry.brown@example.com  jerry.brown\n",
              "2    rob.jones@example.com    rob.jones"
            ],
            "text/html": [
              "\n",
              "  <div id=\"df-bf0ea9c5-0e36-432a-9a23-3efacf5e9805\" class=\"colab-df-container\">\n",
              "    <div>\n",
              "<style scoped>\n",
              "    .dataframe tbody tr th:only-of-type {\n",
              "        vertical-align: middle;\n",
              "    }\n",
              "\n",
              "    .dataframe tbody tr th {\n",
              "        vertical-align: top;\n",
              "    }\n",
              "\n",
              "    .dataframe thead th {\n",
              "        text-align: right;\n",
              "    }\n",
              "</style>\n",
              "<table border=\"1\" class=\"dataframe\">\n",
              "  <thead>\n",
              "    <tr style=\"text-align: right;\">\n",
              "      <th></th>\n",
              "      <th>Email</th>\n",
              "      <th>username</th>\n",
              "    </tr>\n",
              "  </thead>\n",
              "  <tbody>\n",
              "    <tr>\n",
              "      <th>0</th>\n",
              "      <td>tom.smith@example.com</td>\n",
              "      <td>tom.smith</td>\n",
              "    </tr>\n",
              "    <tr>\n",
              "      <th>1</th>\n",
              "      <td>jerry.brown@example.com</td>\n",
              "      <td>jerry.brown</td>\n",
              "    </tr>\n",
              "    <tr>\n",
              "      <th>2</th>\n",
              "      <td>rob.jones@example.com</td>\n",
              "      <td>rob.jones</td>\n",
              "    </tr>\n",
              "  </tbody>\n",
              "</table>\n",
              "</div>\n",
              "    <div class=\"colab-df-buttons\">\n",
              "\n",
              "  <div class=\"colab-df-container\">\n",
              "    <button class=\"colab-df-convert\" onclick=\"convertToInteractive('df-bf0ea9c5-0e36-432a-9a23-3efacf5e9805')\"\n",
              "            title=\"Convert this dataframe to an interactive table.\"\n",
              "            style=\"display:none;\">\n",
              "\n",
              "  <svg xmlns=\"http://www.w3.org/2000/svg\" height=\"24px\" viewBox=\"0 -960 960 960\">\n",
              "    <path d=\"M120-120v-720h720v720H120Zm60-500h600v-160H180v160Zm220 220h160v-160H400v160Zm0 220h160v-160H400v160ZM180-400h160v-160H180v160Zm440 0h160v-160H620v160ZM180-180h160v-160H180v160Zm440 0h160v-160H620v160Z\"/>\n",
              "  </svg>\n",
              "    </button>\n",
              "\n",
              "  <style>\n",
              "    .colab-df-container {\n",
              "      display:flex;\n",
              "      gap: 12px;\n",
              "    }\n",
              "\n",
              "    .colab-df-convert {\n",
              "      background-color: #E8F0FE;\n",
              "      border: none;\n",
              "      border-radius: 50%;\n",
              "      cursor: pointer;\n",
              "      display: none;\n",
              "      fill: #1967D2;\n",
              "      height: 32px;\n",
              "      padding: 0 0 0 0;\n",
              "      width: 32px;\n",
              "    }\n",
              "\n",
              "    .colab-df-convert:hover {\n",
              "      background-color: #E2EBFA;\n",
              "      box-shadow: 0px 1px 2px rgba(60, 64, 67, 0.3), 0px 1px 3px 1px rgba(60, 64, 67, 0.15);\n",
              "      fill: #174EA6;\n",
              "    }\n",
              "\n",
              "    .colab-df-buttons div {\n",
              "      margin-bottom: 4px;\n",
              "    }\n",
              "\n",
              "    [theme=dark] .colab-df-convert {\n",
              "      background-color: #3B4455;\n",
              "      fill: #D2E3FC;\n",
              "    }\n",
              "\n",
              "    [theme=dark] .colab-df-convert:hover {\n",
              "      background-color: #434B5C;\n",
              "      box-shadow: 0px 1px 3px 1px rgba(0, 0, 0, 0.15);\n",
              "      filter: drop-shadow(0px 1px 2px rgba(0, 0, 0, 0.3));\n",
              "      fill: #FFFFFF;\n",
              "    }\n",
              "  </style>\n",
              "\n",
              "    <script>\n",
              "      const buttonEl =\n",
              "        document.querySelector('#df-bf0ea9c5-0e36-432a-9a23-3efacf5e9805 button.colab-df-convert');\n",
              "      buttonEl.style.display =\n",
              "        google.colab.kernel.accessAllowed ? 'block' : 'none';\n",
              "\n",
              "      async function convertToInteractive(key) {\n",
              "        const element = document.querySelector('#df-bf0ea9c5-0e36-432a-9a23-3efacf5e9805');\n",
              "        const dataTable =\n",
              "          await google.colab.kernel.invokeFunction('convertToInteractive',\n",
              "                                                    [key], {});\n",
              "        if (!dataTable) return;\n",
              "\n",
              "        const docLinkHtml = 'Like what you see? Visit the ' +\n",
              "          '<a target=\"_blank\" href=https://colab.research.google.com/notebooks/data_table.ipynb>data table notebook</a>'\n",
              "          + ' to learn more about interactive tables.';\n",
              "        element.innerHTML = '';\n",
              "        dataTable['output_type'] = 'display_data';\n",
              "        await google.colab.output.renderOutput(dataTable, element);\n",
              "        const docLink = document.createElement('div');\n",
              "        docLink.innerHTML = docLinkHtml;\n",
              "        element.appendChild(docLink);\n",
              "      }\n",
              "    </script>\n",
              "  </div>\n",
              "\n",
              "\n",
              "<div id=\"df-01169076-8d62-4082-97e6-2425d00d85b1\">\n",
              "  <button class=\"colab-df-quickchart\" onclick=\"quickchart('df-01169076-8d62-4082-97e6-2425d00d85b1')\"\n",
              "            title=\"Suggest charts\"\n",
              "            style=\"display:none;\">\n",
              "\n",
              "<svg xmlns=\"http://www.w3.org/2000/svg\" height=\"24px\"viewBox=\"0 0 24 24\"\n",
              "     width=\"24px\">\n",
              "    <g>\n",
              "        <path d=\"M19 3H5c-1.1 0-2 .9-2 2v14c0 1.1.9 2 2 2h14c1.1 0 2-.9 2-2V5c0-1.1-.9-2-2-2zM9 17H7v-7h2v7zm4 0h-2V7h2v10zm4 0h-2v-4h2v4z\"/>\n",
              "    </g>\n",
              "</svg>\n",
              "  </button>\n",
              "\n",
              "<style>\n",
              "  .colab-df-quickchart {\n",
              "      --bg-color: #E8F0FE;\n",
              "      --fill-color: #1967D2;\n",
              "      --hover-bg-color: #E2EBFA;\n",
              "      --hover-fill-color: #174EA6;\n",
              "      --disabled-fill-color: #AAA;\n",
              "      --disabled-bg-color: #DDD;\n",
              "  }\n",
              "\n",
              "  [theme=dark] .colab-df-quickchart {\n",
              "      --bg-color: #3B4455;\n",
              "      --fill-color: #D2E3FC;\n",
              "      --hover-bg-color: #434B5C;\n",
              "      --hover-fill-color: #FFFFFF;\n",
              "      --disabled-bg-color: #3B4455;\n",
              "      --disabled-fill-color: #666;\n",
              "  }\n",
              "\n",
              "  .colab-df-quickchart {\n",
              "    background-color: var(--bg-color);\n",
              "    border: none;\n",
              "    border-radius: 50%;\n",
              "    cursor: pointer;\n",
              "    display: none;\n",
              "    fill: var(--fill-color);\n",
              "    height: 32px;\n",
              "    padding: 0;\n",
              "    width: 32px;\n",
              "  }\n",
              "\n",
              "  .colab-df-quickchart:hover {\n",
              "    background-color: var(--hover-bg-color);\n",
              "    box-shadow: 0 1px 2px rgba(60, 64, 67, 0.3), 0 1px 3px 1px rgba(60, 64, 67, 0.15);\n",
              "    fill: var(--button-hover-fill-color);\n",
              "  }\n",
              "\n",
              "  .colab-df-quickchart-complete:disabled,\n",
              "  .colab-df-quickchart-complete:disabled:hover {\n",
              "    background-color: var(--disabled-bg-color);\n",
              "    fill: var(--disabled-fill-color);\n",
              "    box-shadow: none;\n",
              "  }\n",
              "\n",
              "  .colab-df-spinner {\n",
              "    border: 2px solid var(--fill-color);\n",
              "    border-color: transparent;\n",
              "    border-bottom-color: var(--fill-color);\n",
              "    animation:\n",
              "      spin 1s steps(1) infinite;\n",
              "  }\n",
              "\n",
              "  @keyframes spin {\n",
              "    0% {\n",
              "      border-color: transparent;\n",
              "      border-bottom-color: var(--fill-color);\n",
              "      border-left-color: var(--fill-color);\n",
              "    }\n",
              "    20% {\n",
              "      border-color: transparent;\n",
              "      border-left-color: var(--fill-color);\n",
              "      border-top-color: var(--fill-color);\n",
              "    }\n",
              "    30% {\n",
              "      border-color: transparent;\n",
              "      border-left-color: var(--fill-color);\n",
              "      border-top-color: var(--fill-color);\n",
              "      border-right-color: var(--fill-color);\n",
              "    }\n",
              "    40% {\n",
              "      border-color: transparent;\n",
              "      border-right-color: var(--fill-color);\n",
              "      border-top-color: var(--fill-color);\n",
              "    }\n",
              "    60% {\n",
              "      border-color: transparent;\n",
              "      border-right-color: var(--fill-color);\n",
              "    }\n",
              "    80% {\n",
              "      border-color: transparent;\n",
              "      border-right-color: var(--fill-color);\n",
              "      border-bottom-color: var(--fill-color);\n",
              "    }\n",
              "    90% {\n",
              "      border-color: transparent;\n",
              "      border-bottom-color: var(--fill-color);\n",
              "    }\n",
              "  }\n",
              "</style>\n",
              "\n",
              "  <script>\n",
              "    async function quickchart(key) {\n",
              "      const quickchartButtonEl =\n",
              "        document.querySelector('#' + key + ' button');\n",
              "      quickchartButtonEl.disabled = true;  // To prevent multiple clicks.\n",
              "      quickchartButtonEl.classList.add('colab-df-spinner');\n",
              "      try {\n",
              "        const charts = await google.colab.kernel.invokeFunction(\n",
              "            'suggestCharts', [key], {});\n",
              "      } catch (error) {\n",
              "        console.error('Error during call to suggestCharts:', error);\n",
              "      }\n",
              "      quickchartButtonEl.classList.remove('colab-df-spinner');\n",
              "      quickchartButtonEl.classList.add('colab-df-quickchart-complete');\n",
              "    }\n",
              "    (() => {\n",
              "      let quickchartButtonEl =\n",
              "        document.querySelector('#df-01169076-8d62-4082-97e6-2425d00d85b1 button');\n",
              "      quickchartButtonEl.style.display =\n",
              "        google.colab.kernel.accessAllowed ? 'block' : 'none';\n",
              "    })();\n",
              "  </script>\n",
              "</div>\n",
              "\n",
              "  <div id=\"id_bd5852f4-6e7d-4a5d-bb06-4640210ec36c\">\n",
              "    <style>\n",
              "      .colab-df-generate {\n",
              "        background-color: #E8F0FE;\n",
              "        border: none;\n",
              "        border-radius: 50%;\n",
              "        cursor: pointer;\n",
              "        display: none;\n",
              "        fill: #1967D2;\n",
              "        height: 32px;\n",
              "        padding: 0 0 0 0;\n",
              "        width: 32px;\n",
              "      }\n",
              "\n",
              "      .colab-df-generate:hover {\n",
              "        background-color: #E2EBFA;\n",
              "        box-shadow: 0px 1px 2px rgba(60, 64, 67, 0.3), 0px 1px 3px 1px rgba(60, 64, 67, 0.15);\n",
              "        fill: #174EA6;\n",
              "      }\n",
              "\n",
              "      [theme=dark] .colab-df-generate {\n",
              "        background-color: #3B4455;\n",
              "        fill: #D2E3FC;\n",
              "      }\n",
              "\n",
              "      [theme=dark] .colab-df-generate:hover {\n",
              "        background-color: #434B5C;\n",
              "        box-shadow: 0px 1px 3px 1px rgba(0, 0, 0, 0.15);\n",
              "        filter: drop-shadow(0px 1px 2px rgba(0, 0, 0, 0.3));\n",
              "        fill: #FFFFFF;\n",
              "      }\n",
              "    </style>\n",
              "    <button class=\"colab-df-generate\" onclick=\"generateWithVariable('df')\"\n",
              "            title=\"Generate code using this dataframe.\"\n",
              "            style=\"display:none;\">\n",
              "\n",
              "  <svg xmlns=\"http://www.w3.org/2000/svg\" height=\"24px\"viewBox=\"0 0 24 24\"\n",
              "       width=\"24px\">\n",
              "    <path d=\"M7,19H8.4L18.45,9,17,7.55,7,17.6ZM5,21V16.75L18.45,3.32a2,2,0,0,1,2.83,0l1.4,1.43a1.91,1.91,0,0,1,.58,1.4,1.91,1.91,0,0,1-.58,1.4L9.25,21ZM18.45,9,17,7.55Zm-12,3A5.31,5.31,0,0,0,4.9,8.1,5.31,5.31,0,0,0,1,6.5,5.31,5.31,0,0,0,4.9,4.9,5.31,5.31,0,0,0,6.5,1,5.31,5.31,0,0,0,8.1,4.9,5.31,5.31,0,0,0,12,6.5,5.46,5.46,0,0,0,6.5,12Z\"/>\n",
              "  </svg>\n",
              "    </button>\n",
              "    <script>\n",
              "      (() => {\n",
              "      const buttonEl =\n",
              "        document.querySelector('#id_bd5852f4-6e7d-4a5d-bb06-4640210ec36c button.colab-df-generate');\n",
              "      buttonEl.style.display =\n",
              "        google.colab.kernel.accessAllowed ? 'block' : 'none';\n",
              "\n",
              "      buttonEl.onclick = () => {\n",
              "        google.colab.notebook.generateWithVariable('df');\n",
              "      }\n",
              "      })();\n",
              "    </script>\n",
              "  </div>\n",
              "\n",
              "    </div>\n",
              "  </div>\n"
            ],
            "application/vnd.google.colaboratory.intrinsic+json": {
              "type": "dataframe",
              "variable_name": "df",
              "summary": "{\n  \"name\": \"df\",\n  \"rows\": 3,\n  \"fields\": [\n    {\n      \"column\": \"Email\",\n      \"properties\": {\n        \"dtype\": \"string\",\n        \"num_unique_values\": 3,\n        \"samples\": [\n          \"tom.smith@example.com\",\n          \"jerry.brown@example.com\",\n          \"rob.jones@example.com\"\n        ],\n        \"semantic_type\": \"\",\n        \"description\": \"\"\n      }\n    },\n    {\n      \"column\": \"username\",\n      \"properties\": {\n        \"dtype\": \"string\",\n        \"num_unique_values\": 3,\n        \"samples\": [\n          \"tom.smith\",\n          \"jerry.brown\",\n          \"rob.jones\"\n        ],\n        \"semantic_type\": \"\",\n        \"description\": \"\"\n      }\n    }\n  ]\n}"
            }
          },
          "metadata": {},
          "execution_count": 11
        }
      ]
    },
    {
      "cell_type": "markdown",
      "source": [
        "Q8. You have a Pandas DataFrame df with columns 'A', 'B', and 'C'. Write a Python function that selects all rows where the value in column 'A' is greater than 5 and the value in column 'B' is less than 10. The function should return a new DataFrame that contains only the selected rows.\n",
        "\n",
        "For example, if df contains the following values:\n",
        "\n",
        "   A   B   C\n",
        "\n",
        "0  3   5   1\n",
        "\n",
        "1  8   2   7\n",
        "\n",
        "2  6   9   4\n",
        "\n",
        "3  2   3   5\n",
        "\n",
        "4  9   1   2\n",
        "\n",
        "Your function should select the following rows:   A   B   C\n",
        "\n",
        "1  8   2   7\n",
        "\n",
        "4  9   1   2\n",
        "\n",
        "The function should return a new DataFrame that contains only the selected rows"
      ],
      "metadata": {
        "id": "BgbSxpDFsGhu"
      }
    },
    {
      "cell_type": "markdown",
      "source": [],
      "metadata": {
        "id": "krOxotkyrvwv"
      }
    },
    {
      "cell_type": "code",
      "source": [
        "import pandas as pd\n",
        "\n",
        "def select_rows(df):\n",
        "    selected_rows = df[(df['A'] > 5) & (df['B'] < 10)]\n",
        "    return selected_rows\n",
        "\n",
        "# Example usage\n",
        "data = {'A': [3, 8, 6, 2, 9],\n",
        "        'B': [5, 2, 9, 3, 1],\n",
        "        'C': [1, 7, 4, 5, 2]}\n",
        "\n",
        "df = pd.DataFrame(data)\n",
        "\n",
        "# Selecting rows\n",
        "selected_df = select_rows(df)\n",
        "print(selected_df[0:3:2])\n"
      ],
      "metadata": {
        "colab": {
          "base_uri": "https://localhost:8080/"
        },
        "id": "Fprn3z8XsMyW",
        "outputId": "fab89030-1160-4913-c9b2-dedec73699af"
      },
      "execution_count": 12,
      "outputs": [
        {
          "output_type": "stream",
          "name": "stdout",
          "text": [
            "   A  B  C\n",
            "1  8  2  7\n",
            "4  9  1  2\n"
          ]
        }
      ]
    },
    {
      "cell_type": "code",
      "source": [],
      "metadata": {
        "id": "IVSQrishsSBL"
      },
      "execution_count": null,
      "outputs": []
    },
    {
      "cell_type": "markdown",
      "source": [
        " Q10. Given a Pandas DataFrame df with a column 'Sales' and a column 'Date', write a Python function to create a new column 'MovingAverage' that contains the moving average of the sales for the past 7 days for each row in the DataFrame. The moving average should be calculated using a window of size 7 and should include the current day"
      ],
      "metadata": {
        "id": "wrXk07dBsTMF"
      }
    },
    {
      "cell_type": "code",
      "source": [
        "import pandas as pd\n",
        "\n",
        "def calculate_moving_average(df):\n",
        "    window_size = 7\n",
        "\n",
        "    # Convert the 'Date' column to datetime if it's not already\n",
        "    df['Date'] = pd.to_datetime(df['Date'])\n",
        "\n",
        "    # Sort DataFrame by date\n",
        "    df.sort_values(by='Date', inplace=True)\n",
        "\n",
        "    # Calculate the moving average using rolling and mean functions\n",
        "    df['MovingAverage'] = df['Sales'].rolling(window=window_size, min_periods=1).mean()\n",
        "\n",
        "    return df\n",
        "\n",
        "# Example usage\n",
        "data = {'Date': ['2023-01-01', '2023-01-02', '2023-01-03', '2023-01-04', '2023-01-05', '2023-01-06', '2023-01-07'],\n",
        "        'Sales': [10, 15, 20, 25, 30, 35, 40]}\n",
        "\n",
        "df = pd.DataFrame(data)\n",
        "\n",
        "# Calculate moving average\n",
        "df_with_ma = calculate_moving_average(df)\n",
        "print(df_with_ma)"
      ],
      "metadata": {
        "colab": {
          "base_uri": "https://localhost:8080/"
        },
        "id": "H6F-PFxasVlJ",
        "outputId": "996cb6d5-a1f2-4c97-c179-232e6b89dda3"
      },
      "execution_count": 13,
      "outputs": [
        {
          "output_type": "stream",
          "name": "stdout",
          "text": [
            "        Date  Sales  MovingAverage\n",
            "0 2023-01-01     10           10.0\n",
            "1 2023-01-02     15           12.5\n",
            "2 2023-01-03     20           15.0\n",
            "3 2023-01-04     25           17.5\n",
            "4 2023-01-05     30           20.0\n",
            "5 2023-01-06     35           22.5\n",
            "6 2023-01-07     40           25.0\n"
          ]
        }
      ]
    },
    {
      "cell_type": "code",
      "source": [],
      "metadata": {
        "id": "M2TcIjD7sXwJ"
      },
      "execution_count": null,
      "outputs": []
    },
    {
      "cell_type": "markdown",
      "source": [
        "Q11. You have a Pandas DataFrame df with a column 'Date'. Write a Python function that creates a new column 'Weekday' in the DataFrame. The 'Weekday' column should contain the weekday name (e.g. Monday, Tuesday) corresponding to each date in the 'Date' column.\n",
        "\n",
        "For example, if df contains the following values:\n",
        "\n",
        "         Date\n",
        "\n",
        "0  2023-01-01\n",
        "\n",
        "1  2023-01-02\n",
        "\n",
        "2  2023-01-03\n",
        "\n",
        "3  2023-01-04\n",
        "\n",
        "4  2023-01-05\n",
        "\n",
        "Your function should create the following DataFrame:\n",
        "\n",
        "\n",
        "         Date    Weekday\n",
        "\n",
        "0  2023-01-01    Sunday\n",
        "\n",
        "1  2023-01-02     Monday\n",
        "\n",
        "2  2023-01-03    Tuesday\n",
        "\n",
        "3  2023-01-04    Wednesday\n",
        "\n",
        "4  2023-01-05    Thursday\n",
        "\n",
        "The function should return the modified DataFrame."
      ],
      "metadata": {
        "id": "hKYxkVRCsf10"
      }
    },
    {
      "cell_type": "code",
      "source": [
        "import pandas as pd\n",
        "\n",
        "def add_weekday_column(df):\n",
        "    df['Date'] = pd.to_datetime(df['Date'])  # Convert 'Date' column to datetime if not already\n",
        "    df['Weekday'] = df['Date'].dt.strftime('%A')  # Extract weekday name and add to new column\n",
        "    return df\n",
        "\n",
        "# Example usage\n",
        "data = {'Date': ['2023-01-01', '2023-01-02', '2023-01-03', '2023-01-04', '2023-01-05']}\n",
        "\n",
        "df = pd.DataFrame(data)\n",
        "\n",
        "# Add 'Weekday' column\n",
        "df_with_weekday = add_weekday_column(df)\n",
        "print(df_with_weekday)\n"
      ],
      "metadata": {
        "colab": {
          "base_uri": "https://localhost:8080/"
        },
        "id": "E-NKDdZXsgno",
        "outputId": "1bec3dc3-8387-430d-ed1a-0602a99f9424"
      },
      "execution_count": 14,
      "outputs": [
        {
          "output_type": "stream",
          "name": "stdout",
          "text": [
            "        Date    Weekday\n",
            "0 2023-01-01     Sunday\n",
            "1 2023-01-02     Monday\n",
            "2 2023-01-03    Tuesday\n",
            "3 2023-01-04  Wednesday\n",
            "4 2023-01-05   Thursday\n"
          ]
        }
      ]
    },
    {
      "cell_type": "code",
      "source": [],
      "metadata": {
        "id": "WpWCOupvsjCJ"
      },
      "execution_count": null,
      "outputs": []
    },
    {
      "cell_type": "markdown",
      "source": [
        " Q12. Given a Pandas DataFrame df with a column 'Date' that contains timestamps, write a Python function to select all rows where the date is between '2023-01-01' and '2023-01-31'."
      ],
      "metadata": {
        "id": "aNxsDHdwslcd"
      }
    },
    {
      "cell_type": "code",
      "source": [
        "import pandas as pd\n",
        "\n",
        "def select_rows_between_dates(df):\n",
        "    start_date = '2023-01-01'\n",
        "    end_date = '2023-01-31'\n",
        "\n",
        "    # Convert the 'Date' column to datetime if it's not already\n",
        "    df['Date'] = pd.to_datetime(df['Date'])\n",
        "\n",
        "    selected_rows = df[(df['Date'] >= start_date) & (df['Date'] <= end_date)]\n",
        "    return selected_rows\n",
        "\n",
        "# Example usage\n",
        "data = {'Date': ['2023-01-15', '2023-01-25', '2023-02-05', '2023-01-10']}\n",
        "df = pd.DataFrame(data)\n",
        "\n",
        "# Selecting rows between dates\n",
        "selected_df = select_rows_between_dates(df)\n",
        "print(selected_df)"
      ],
      "metadata": {
        "colab": {
          "base_uri": "https://localhost:8080/"
        },
        "id": "oi_OohqgsmI4",
        "outputId": "d81b3e88-1578-404b-b289-b79eb0859795"
      },
      "execution_count": 15,
      "outputs": [
        {
          "output_type": "stream",
          "name": "stdout",
          "text": [
            "        Date\n",
            "0 2023-01-15\n",
            "1 2023-01-25\n",
            "3 2023-01-10\n"
          ]
        }
      ]
    },
    {
      "cell_type": "code",
      "source": [],
      "metadata": {
        "id": "JXSBOjupsovw"
      },
      "execution_count": null,
      "outputs": []
    },
    {
      "cell_type": "markdown",
      "source": [
        "Q13. To use the basic functions of pandas, what is the first and foremost necessary library that needs to be imported?\n",
        "\n",
        "Ans :- import pandas as pd"
      ],
      "metadata": {
        "id": "hV3RCdYhsxkF"
      }
    },
    {
      "cell_type": "code",
      "source": [],
      "metadata": {
        "id": "zTQmwgixsyZo"
      },
      "execution_count": null,
      "outputs": []
    },
    {
      "cell_type": "markdown",
      "source": [],
      "metadata": {
        "id": "SP1IXwtosy_0"
      }
    }
  ]
}